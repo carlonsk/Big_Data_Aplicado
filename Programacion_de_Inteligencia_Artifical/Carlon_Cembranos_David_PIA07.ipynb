{
  "nbformat": 4,
  "nbformat_minor": 0,
  "metadata": {
    "colab": {
      "provenance": []
    },
    "kernelspec": {
      "name": "python3",
      "display_name": "Python 3"
    }
  },
  "cells": [
    {
      "cell_type": "markdown",
      "source": [
        "# Apartado 1: Carga el dataset y prepara los datos\n",
        "Carga el dataset desde Keras y prepara los datos para poder ser ingeridos por una capa convolucional.\n"
      ],
      "metadata": {
        "id": "lijkL0eAh_U2"
      }
    },
    {
      "cell_type": "code",
      "source": [
        "\n",
        "# Importacion TensorFlow para el aprendizaje profundo y Keras para construir modelos neuronales.\n",
        "\n",
        "import numpy as np\n",
        "from keras.models import Sequential\n",
        "from keras.layers import Conv2D, MaxPooling2D, Flatten, Dense, Dropout\n",
        "import tensorflow as tf\n",
        "\n",
        "# Configuración de parámetros\n",
        "num_classes = 10  # Número de clases en el conjunto de datos MNIST\n",
        "input_shape = (28, 28, 1)  # Forma de las imágenes de entrada\n",
        "\n",
        "# Carga de datos MNIST y división en conjuntos de entrenamiento y prueba\n",
        "(train_images, train_labels), (test_images, test_labels) = tf.keras.datasets.mnist.load_data()\n",
        "\n",
        "# Normalización de los valores de píxel al rango [0, 1]\n",
        "train_images = train_images.astype(\"float32\") / 255\n",
        "test_images = test_images.astype(\"float32\") / 255\n",
        "\n",
        "# Ajuste de la forma de las imágenes de entrada para que coincida con las especificaciones de TensorFlow\n",
        "train_images = np.expand_dims(train_images, -1)\n",
        "test_images = np.expand_dims(test_images, -1)\n",
        "\n",
        "# Conversión de etiquetas a matrices de clasificación one-hot\n",
        "train_labels = tf.keras.utils.to_categorical(train_labels, num_classes)\n",
        "test_labels = tf.keras.utils.to_categorical(test_labels, num_classes)"
      ],
      "metadata": {
        "id": "tCOUaQYwiJO3"
      },
      "execution_count": 16,
      "outputs": []
    },
    {
      "cell_type": "markdown",
      "source": [
        "# Apartado 2: Crea el modelo convolucional.\n",
        "Crea un modelo con una o varias capas Conv2D.\n",
        "Utiliza también capas max-pooling o strides que mantengan las dimensiones de la red bajo control.\n",
        "Recuerda añadir una capa neuronal interna y una capa neuronal de salida, con tantas neuronas como clases de salida necesitamos."
      ],
      "metadata": {
        "id": "mEpLeg2jjzEa"
      }
    },
    {
      "cell_type": "code",
      "metadata": {
        "id": "oZQBaIHv7q1Y",
        "colab": {
          "base_uri": "https://localhost:8080/"
        },
        "outputId": "0d6ce287-ea48-42eb-c0d7-1f7d9b42e9ee"
      },
      "source": [
        "\n",
        "# Creación del modelo Sequential\n",
        "model = Sequential()\n",
        "\n",
        "# Capas convolucionales para extraer características y reducir dimensionalidad\n",
        "model.add(Conv2D(32, kernel_size=(3, 3), activation='relu', input_shape=input_shape))\n",
        "model.add(MaxPooling2D(pool_size=(2, 2)))\n",
        "\n",
        "model.add(Conv2D(64, kernel_size=(3, 3), activation='relu'))\n",
        "model.add(MaxPooling2D(pool_size=(2, 2)))\n",
        "\n",
        "# Capa densa para procesar características y realizar clasificación\n",
        "model.add(Flatten())\n",
        "model.add(Dense(128, activation=tf.nn.relu))\n",
        "model.add(Dropout(0.3))\n",
        "\n",
        "model.add(Dense(64, activation=tf.nn.relu))\n",
        "model.add(Dropout(0.3))\n",
        "\n",
        "# Capa de salida con activación softmax para clasificación multiclase\n",
        "model.add(Dense(10, activation=tf.nn.softmax))\n",
        "\n",
        "# Compilación del modelo y resumen\n",
        "model.compile(optimizer='adam', loss='categorical_crossentropy', metrics=['accuracy'])\n",
        "model.summary()"
      ],
      "execution_count": 17,
      "outputs": [
        {
          "output_type": "stream",
          "name": "stdout",
          "text": [
            "Model: \"sequential_4\"\n",
            "_________________________________________________________________\n",
            " Layer (type)                Output Shape              Param #   \n",
            "=================================================================\n",
            " conv2d_4 (Conv2D)           (None, 26, 26, 32)        320       \n",
            "                                                                 \n",
            " max_pooling2d_4 (MaxPoolin  (None, 13, 13, 32)        0         \n",
            " g2D)                                                            \n",
            "                                                                 \n",
            " conv2d_5 (Conv2D)           (None, 11, 11, 64)        18496     \n",
            "                                                                 \n",
            " max_pooling2d_5 (MaxPoolin  (None, 5, 5, 64)          0         \n",
            " g2D)                                                            \n",
            "                                                                 \n",
            " flatten_2 (Flatten)         (None, 1600)              0         \n",
            "                                                                 \n",
            " dense_6 (Dense)             (None, 128)               204928    \n",
            "                                                                 \n",
            " dropout_4 (Dropout)         (None, 128)               0         \n",
            "                                                                 \n",
            " dense_7 (Dense)             (None, 64)                8256      \n",
            "                                                                 \n",
            " dropout_5 (Dropout)         (None, 64)                0         \n",
            "                                                                 \n",
            " dense_8 (Dense)             (None, 10)                650       \n",
            "                                                                 \n",
            "=================================================================\n",
            "Total params: 232650 (908.79 KB)\n",
            "Trainable params: 232650 (908.79 KB)\n",
            "Non-trainable params: 0 (0.00 Byte)\n",
            "_________________________________________________________________\n"
          ]
        }
      ]
    },
    {
      "cell_type": "markdown",
      "source": [
        "# Apartado 3: Entrena y evalua el modelo.\n",
        "Configura los parámetros del entrenamiento.\n",
        "Entrena el modelo.\n",
        "Evalua el modelo con los datos de test y obtén la precisión real.\n",
        "¿Es peor, igual o mejor que la que conseguimos en la unidad 5?."
      ],
      "metadata": {
        "id": "mv1MYV9nmOIH"
      }
    },
    {
      "cell_type": "code",
      "source": [
        "# Definir los parámetros de entrenamiento\n",
        "batch_size = 128\n",
        "epochs = 10\n",
        "\n",
        "# Entrenar el modelo con los datos de entrenamiento\n",
        "history = model.fit(train_images, train_labels, batch_size=batch_size, epochs=epochs, validation_split=0.1)\n",
        "\n",
        "# Evaluar el modelo con los datos de prueba\n",
        "test_loss, test_accuracy = model.evaluate(test_images, test_labels)\n",
        "\n",
        "print(\"Precisión del modelo en los datos de prueba:\", test_accuracy)"
      ],
      "metadata": {
        "colab": {
          "base_uri": "https://localhost:8080/"
        },
        "id": "bGSqHVz7mN6h",
        "outputId": "bbb71afc-2c47-430e-c4a1-6ef32b203c7f"
      },
      "execution_count": 19,
      "outputs": [
        {
          "output_type": "stream",
          "name": "stdout",
          "text": [
            "Epoch 1/10\n",
            "422/422 [==============================] - 42s 96ms/step - loss: 0.3756 - accuracy: 0.8853 - val_loss: 0.0645 - val_accuracy: 0.9803\n",
            "Epoch 2/10\n",
            "422/422 [==============================] - 38s 90ms/step - loss: 0.1054 - accuracy: 0.9698 - val_loss: 0.0428 - val_accuracy: 0.9877\n",
            "Epoch 3/10\n",
            "422/422 [==============================] - 39s 93ms/step - loss: 0.0756 - accuracy: 0.9784 - val_loss: 0.0359 - val_accuracy: 0.9885\n",
            "Epoch 4/10\n",
            "422/422 [==============================] - 39s 92ms/step - loss: 0.0582 - accuracy: 0.9832 - val_loss: 0.0335 - val_accuracy: 0.9898\n",
            "Epoch 5/10\n",
            "422/422 [==============================] - 39s 92ms/step - loss: 0.0490 - accuracy: 0.9865 - val_loss: 0.0337 - val_accuracy: 0.9915\n",
            "Epoch 6/10\n",
            "422/422 [==============================] - 38s 90ms/step - loss: 0.0404 - accuracy: 0.9887 - val_loss: 0.0326 - val_accuracy: 0.9903\n",
            "Epoch 7/10\n",
            "422/422 [==============================] - 39s 92ms/step - loss: 0.0359 - accuracy: 0.9898 - val_loss: 0.0336 - val_accuracy: 0.9897\n",
            "Epoch 8/10\n",
            "422/422 [==============================] - 39s 92ms/step - loss: 0.0323 - accuracy: 0.9900 - val_loss: 0.0306 - val_accuracy: 0.9920\n",
            "Epoch 9/10\n",
            "422/422 [==============================] - 39s 93ms/step - loss: 0.0291 - accuracy: 0.9913 - val_loss: 0.0307 - val_accuracy: 0.9920\n",
            "Epoch 10/10\n",
            "422/422 [==============================] - 39s 93ms/step - loss: 0.0255 - accuracy: 0.9928 - val_loss: 0.0298 - val_accuracy: 0.9925\n",
            "313/313 [==============================] - 3s 11ms/step - loss: 0.0277 - accuracy: 0.9922\n",
            "Precisión del modelo en los datos de prueba: 0.9922000169754028\n"
          ]
        }
      ]
    },
    {
      "cell_type": "code",
      "source": [
        "# Evaluar el modelo en los datos de prueba y obtener la pérdida y la precisión\n",
        "score = model.evaluate(test_images, test_labels, verbose=0)\n",
        "\n",
        "# Imprimir la pérdiday la precision en los datos de prueba\n",
        "print(\"Pérdida en los datos de prueba:\", score[0])\n",
        "print(\"\\nPrecisión en los datos de prueba:\", score[1])"
      ],
      "metadata": {
        "colab": {
          "base_uri": "https://localhost:8080/"
        },
        "id": "g3gi8-pamfaS",
        "outputId": "6525f912-a424-4f90-f6ab-fe15cb0200a4"
      },
      "execution_count": 21,
      "outputs": [
        {
          "output_type": "stream",
          "name": "stdout",
          "text": [
            "Test loss: 0.027669982984662056\n",
            "\n",
            "Test accuracy: 0.9922000169754028\n"
          ]
        }
      ]
    },
    {
      "cell_type": "markdown",
      "source": [
        "La precision que conseguimos con este tipo de modelo con capas convolucionales, es mucho mejor que los conseguidos en la tarea 05 que fue, despues de muchas pruebas de un 73%. En esta ocasion hemos conseguido mas de un 99%."
      ],
      "metadata": {
        "id": "1yet2pizpg9n"
      }
    },
    {
      "cell_type": "code",
      "source": [],
      "metadata": {
        "id": "OIw_ChwpqTHk"
      },
      "execution_count": null,
      "outputs": []
    }
  ]
}